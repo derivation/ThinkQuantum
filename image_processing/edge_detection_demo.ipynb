{
 "cells": [
  {
   "cell_type": "markdown",
   "metadata": {
    "slideshow": {
     "slide_type": "skip"
    }
   },
   "source": [
    "Display this as a slide deck using [RISE](https://damianavila.github.io/RISE/)."
   ]
  },
  {
   "cell_type": "markdown",
   "metadata": {
    "slideshow": {
     "slide_type": "slide"
    }
   },
   "source": [
    "# Quantum Edge Detection\n",
    "\n",
    "This demonstration shows how to use [Qiskit™](https://qiskit.org/) to perform edge detection in images with the quantum Hadamard edge detection algorithm, which completes the task with just one single-qubit operation, independent of the size of the image, illustrating the potential of quantum image processing for highly efficient image and video processing.\n",
    "\n",
    "![noimg](./img/edge.png)"
   ]
  },
  {
   "cell_type": "markdown",
   "metadata": {
    "slideshow": {
     "slide_type": "slide"
    }
   },
   "source": [
    "## What indicates an edge?"
   ]
  },
  {
   "cell_type": "markdown",
   "metadata": {},
   "source": [
    "Consider the following row of pixels called $\\alpha$:\n",
    "\n",
    "$$\\alpha = [0, 0, 0, 1, 1, 1, 0, 0, 0],$$\n",
    "\n",
    "![p](./img/p.png)\n",
    "\n",
    "and the difference of its nearest neighboring pixels called $\\Delta \\alpha$\n",
    "\n",
    "$$\\Delta \\alpha = [\\alpha_1-\\alpha_0, \\alpha_2-\\alpha_1, \\ldots, \\alpha_n-\\alpha_{n-1},\\alpha_0-\\alpha_n]$$\n",
    "\n",
    "$$\\Delta \\alpha = [0,0,1,0,0,-1,0,0,0]$$\n",
    "\n",
    "![dp](./img/dp.png)\n",
    "\n",
    "The differences $\\Delta \\alpha$ take on non-zero values where there are changes (edges) in the original image $\\alpha$.\n",
    "\n",
    "So, $\\Delta \\alpha$ indicates edges in $\\alpha$."
   ]
  },
  {
   "cell_type": "markdown",
   "metadata": {
    "slideshow": {
     "slide_type": "slide"
    }
   },
   "source": [
    "## The Hadamard quantum gate"
   ]
  },
  {
   "cell_type": "markdown",
   "metadata": {},
   "source": [
    "The Hadamard gate has the following effect on the zero and one basis states of a qubit:\n",
    "\n",
    "$H|0\\rangle \\rightarrow (|0\\rangle + |1\\rangle)/\\sqrt{2}$\n",
    "\n",
    "$H|1\\rangle \\rightarrow (|0\\rangle - |1\\rangle)/\\sqrt{2}$\n",
    "\n",
    "Consider a two pixel image that we represent with a single qubit:\n",
    "\n",
    "$$|\\textrm{image}\\rangle = \\alpha_0 |0\\rangle + \\alpha_1 |1\\rangle$$\n",
    "\n",
    "where $\\alpha_0$ is proportional to the value of pixel 0, $\\alpha_1$ is proportional to the value of pixel 1. The $\\alpha$'s now also tell us the probabilty of finding the qubit in state $|0\\rangle$ or $|1\\rangle$ when we measure it. We will find the qubit in state $|0\\rangle$ with a probabilty of $\\alpha_0^2$, or in the state $|1\\rangle$ with probability $\\alpha_1^2$."
   ]
  },
  {
   "cell_type": "markdown",
   "metadata": {
    "slideshow": {
     "slide_type": "slide"
    }
   },
   "source": [
    "When we apply the Hadamard quantum gate to the image state, it gets transformed into a new state as follows:\n",
    "\n",
    "$$H|\\textrm{image}\\rangle = H \\alpha_0 |0\\rangle + H \\alpha_1 |1\\rangle$$\n",
    "\n",
    "$$H|\\textrm{image}\\rangle = \\alpha_0 H |0\\rangle + \\alpha_1 H |1\\rangle$$\n",
    "\n",
    "$$H|\\textrm{image}\\rangle = \\alpha_0 (|0\\rangle + |1\\rangle)/\\sqrt{2} + \\alpha_1 (|0\\rangle - |1\\rangle)/\\sqrt{2}$$\n",
    "\n",
    "$$H|\\textrm{image}\\rangle =  \\frac{1}{\\sqrt{2}}\\left[(\\alpha_0 + \\alpha_1)|0\\rangle + (\\alpha_0 - \\alpha_1)|1\\rangle)\\right]$$\n",
    "\n",
    "Now if we measure the qubit, the probabilty of finding it in state $|0\\rangle$ is $P(0) = (\\alpha_0 + \\alpha_1)^2/2$ and the probability of finding it in state $|1\\rangle$ is $P(1) = (\\alpha_0 - \\alpha_1)^2/2$.\n",
    "\n",
    "If the two pixels have the same value, then $\\alpha_0 - \\alpha_1 = 0$, so $P(1) = 0$. If the two pixels have different values, then $P(1) > 0$.\n",
    "\n",
    "This is a clue that the Hadamard quantum gate can be used to indicate edges in an image."
   ]
  },
  {
   "cell_type": "markdown",
   "metadata": {
    "slideshow": {
     "slide_type": "slide"
    }
   },
   "source": [
    "## Representing an image as a state vector"
   ]
  },
  {
   "cell_type": "markdown",
   "metadata": {},
   "source": [
    "Represent the image as a quantum state as follows\n",
    "\n",
    "![no_img](./img/quantum_encoding.png)"
   ]
  },
  {
   "cell_type": "markdown",
   "metadata": {},
   "source": [
    "The image begins as a matrix of values at certain pixel positions. Unravel the matrices to form vectors. Then rewrite the pixel positions from decimal to binary.\n",
    "\n",
    "The image can then be represented as the quantum state of a two qubit system:\n",
    "\n",
    "$$|\\textrm{image}\\rangle = \\frac{0.2 |00\\rangle + 0.8 |01\\rangle + 0.7 |10\\rangle + 0.3 |11\\rangle}{\\sqrt{0.2^2 + 0.8^2 + 0.7^2 + 0.3^2}}$$"
   ]
  },
  {
   "cell_type": "markdown",
   "metadata": {
    "slideshow": {
     "slide_type": "slide"
    }
   },
   "source": [
    "## Programming the encoding\n",
    "\n",
    "Read the example image in and display it. Get the first color channel of the image and `ravel` it to form a column vector."
   ]
  },
  {
   "cell_type": "code",
   "execution_count": 1,
   "metadata": {
    "slideshow": {
     "slide_type": "-"
    }
   },
   "outputs": [],
   "source": [
    "import numpy as np\n",
    "from numpy import pi\n",
    "import matplotlib.pyplot as plt\n",
    "import matplotlib.image  as mpimg\n",
    "from skimage.transform import resize"
   ]
  },
  {
   "cell_type": "code",
   "execution_count": 2,
   "metadata": {},
   "outputs": [
    {
     "data": {
      "text/plain": [
       "<matplotlib.image.AxesImage at 0x1c2066c048>"
      ]
     },
     "execution_count": 2,
     "metadata": {},
     "output_type": "execute_result"
    },
    {
     "data": {
      "image/png": "[encoded data removed]",
      "text/plain": [
       "<Figure size 432x288 with 1 Axes>"
      ]
     },
     "metadata": {
      "needs_background": "light"
     },
     "output_type": "display_data"
    }
   ],
   "source": [
    "filename = './img/schrodin_yang.png'\n",
    "im = mpimg.imread(filename)\n",
    "\n",
    "n_pixels = 2**5\n",
    "im = resize(im, (n_pixels, n_pixels))\n",
    "\n",
    "data = im[:,:,0].ravel()\n",
    "\n",
    "fig, ax = plt.subplots()\n",
    "ax.imshow(im)"
   ]
  },
  {
   "cell_type": "markdown",
   "metadata": {
    "slideshow": {
     "slide_type": "slide"
    }
   },
   "source": [
    "Use Qiskit Aqua to encode the image as a quantum state."
   ]
  },
  {
   "cell_type": "code",
   "execution_count": 3,
   "metadata": {
    "slideshow": {
     "slide_type": "-"
    }
   },
   "outputs": [],
   "source": [
    "n_qubits = int(np.log2(len(data)))\n",
    "\n",
    "from qiskit_aqua.components.initial_states import Custom\n",
    "init_state = Custom(n_qubits, state_vector=data)"
   ]
  },
  {
   "cell_type": "markdown",
   "metadata": {
    "slideshow": {
     "slide_type": "-"
    }
   },
   "source": [
    "Get the quantum circuit `circ` that creates the image representation and its quantum register `qr` containing qubits. The circuit's register begins in the zero state $|000\\ldots 000\\rangle$ (as many zeros as there are qubits) that get modified by quantum gates to end up in the state that represents the image, $|\\textrm{image}\\rangle$."
   ]
  },
  {
   "cell_type": "code",
   "execution_count": 4,
   "metadata": {},
   "outputs": [],
   "source": [
    "circ = init_state.construct_circuit('circuit')\n",
    "qr   = circ.qregs"
   ]
  },
  {
   "cell_type": "markdown",
   "metadata": {},
   "source": [
    "The series of quantum gates (the quantum circuit) for a 4x4 version of the image is"
   ]
  },
  {
   "cell_type": "code",
   "execution_count": 6,
   "metadata": {},
   "outputs": [],
   "source": [
    "# circ.draw()"
   ]
  },
  {
   "cell_type": "markdown",
   "metadata": {},
   "source": [
    "![circ](./img/circ.png)"
   ]
  },
  {
   "cell_type": "markdown",
   "metadata": {
    "slideshow": {
     "slide_type": "slide"
    }
   },
   "source": [
    "## The Hadamard gate with more than 2 pixels"
   ]
  },
  {
   "cell_type": "markdown",
   "metadata": {},
   "source": [
    "Recall that the Hadamard gate has the following effect on the zero and one basis states:\n",
    "\n",
    "$H|0\\rangle \\rightarrow (|0\\rangle + |1\\rangle)/\\sqrt{2}$\n",
    "\n",
    "$H|1\\rangle \\rightarrow (|0\\rangle - |1\\rangle)/\\sqrt{2}$\n",
    "\n",
    "Consider a four pixel image, represented with two qubits, and what happens when a Hadamard gate is applied to just the last qubit. We'll subscript the Hadamard operator to tell which qubit it's acting on.\n",
    "\n",
    "$$ |\\textrm{image}\\rangle = \\alpha_{00}|00\\rangle + \\alpha_{01}|01\\rangle + \\alpha_{10}|10\\rangle + \\alpha_{11}|11\\rangle $$\n",
    "\n",
    "$$ |\\textrm{image}\\rangle = \\alpha_{00}|0\\rangle|0\\rangle + \\alpha_{01}|0\\rangle|1\\rangle + \\alpha_{10}|1\\rangle|0\\rangle + \\alpha_{11}|1\\rangle|1\\rangle $$\n",
    "\n",
    "$$ \\sqrt{2} H_0 |\\textrm{image}\\rangle = \\alpha_{00}|0\\rangle \\sqrt{2} H |0\\rangle + \\alpha_{01}|0\\rangle \\sqrt{2} H|1\\rangle + \\alpha_{10}|1\\rangle \\sqrt{2} H|0\\rangle + \\alpha_{11}|1\\rangle\\sqrt{2} H|1\\rangle$$\n",
    "\n",
    "$$ \\sqrt{2} H_0 |\\textrm{image}\\rangle = \\alpha_{00}|0\\rangle(|0\\rangle + |1\\rangle) + \\alpha_{01}|0\\rangle(|0\\rangle - |1\\rangle) + \\alpha_{10}|1\\rangle(|0\\rangle + |1\\rangle) + \\alpha_{11}|1\\rangle(|0\\rangle - |1\\rangle)$$\n",
    "\n",
    "$$ \\sqrt{2} H_0 |\\textrm{image}\\rangle = \\alpha_{00}(|00\\rangle+|01\\rangle) + \\alpha_{01}(|00\\rangle-|01\\rangle) + \\alpha_{10}(|10\\rangle+|11\\rangle) + \\alpha_{11}(|10\\rangle-|11\\rangle) $$\n",
    "\n",
    "$$ \\sqrt{2} H_0 |\\textrm{image}\\rangle = (\\alpha_{00} + \\alpha_{01})|00\\rangle + (\\alpha_{00} - \\alpha_{01})|01\\rangle + (\\alpha_{10} + \\alpha_{11})|10\\rangle + (\\alpha_{10} - \\alpha_{11})|11\\rangle $$"
   ]
  },
  {
   "cell_type": "markdown",
   "metadata": {
    "slideshow": {
     "slide_type": "slide"
    }
   },
   "source": [
    "$$ \\sqrt{2} H_0 |\\textrm{image}\\rangle = (\\alpha_{00} + \\alpha_{01})|00\\rangle + (\\alpha_{00} - \\alpha_{01})|01\\rangle + (\\alpha_{10} + \\alpha_{11})|10\\rangle + (\\alpha_{10} - \\alpha_{11})|11\\rangle $$\n",
    "\n",
    "What happens to the state above if we measure just the state of the first qubit and happen to get the result $1$? The state of the second qubit will still be undetermined, but the system's overall state vector would be made up of only those states consistent with our first measurement: $|01\\rangle$ and $|11\\rangle$. So, if the first measurement results in a 1, it must shrink, or *collapse*, the state down to one proportional to\n",
    "\n",
    "$$ |\\textrm{final state}\\rangle = (\\alpha_{00} - \\alpha_{01})|01\\rangle + (\\alpha_{10} - \\alpha_{11})|11\\rangle $$\n",
    "\n",
    "which holds just the edge information we're interested in."
   ]
  },
  {
   "cell_type": "markdown",
   "metadata": {
    "slideshow": {
     "slide_type": "slide"
    }
   },
   "source": [
    "## Implementing the algorithm\n",
    "\n",
    "Beginning with the circuit `circ` that generates the image's state vector representation, apply the Hadamard gate to *just* the first qubit. This is the entire quantum algorithm!"
   ]
  },
  {
   "cell_type": "code",
   "execution_count": 5,
   "metadata": {},
   "outputs": [
    {
     "data": {
      "text/plain": [
       "<qiskit.extensions.standard.h.HGate at 0x1c2467b0b8>"
      ]
     },
     "execution_count": 5,
     "metadata": {},
     "output_type": "execute_result"
    }
   ],
   "source": [
    "circ.h(qr[0][0])"
   ]
  },
  {
   "cell_type": "markdown",
   "metadata": {
    "slideshow": {
     "slide_type": "slide"
    }
   },
   "source": [
    "Simulate the circuit using the `StatevectorSimulator` and read the resulting state vector."
   ]
  },
  {
   "cell_type": "code",
   "execution_count": 6,
   "metadata": {},
   "outputs": [],
   "source": [
    "from qiskit import BasicAer, execute"
   ]
  },
  {
   "cell_type": "code",
   "execution_count": 14,
   "metadata": {},
   "outputs": [],
   "source": [
    "simulator   = BasicAer.get_backend('statevector_simulator')\n",
    "sim_result  = execute(circ, simulator).result()\n",
    "final_state = sim_result.get_statevector(circ)"
   ]
  },
  {
   "cell_type": "code",
   "execution_count": 8,
   "metadata": {},
   "outputs": [],
   "source": [
    "from qiskit import ClassicalRegister, QuantumCircuit\n",
    "c = ClassicalRegister(1,'c')\n",
    "meas = QuantumCircuit(qr[0],c)\n",
    "meas.measure(qr[0][0],c[0])\n",
    "circuit = circ + meas"
   ]
  },
  {
   "cell_type": "code",
   "execution_count": 23,
   "metadata": {},
   "outputs": [
    {
     "name": "stdout",
     "output_type": "stream",
     "text": [
      "{'0': 975, '1': 49}\n"
     ]
    }
   ],
   "source": [
    "backend_sim = BasicAer.get_backend('qasm_simulator')\n",
    "result = execute(circuit, backend_sim).result()\n",
    "counts = result.get_counts(circuit)\n",
    "print(counts)"
   ]
  },
  {
   "cell_type": "code",
   "execution_count": 20,
   "metadata": {},
   "outputs": [],
   "source": [
    "simulator   = BasicAer.get_backend('statevector_simulator')\n",
    "sim_result  = execute(circuit, simulator).result()\n",
    "final_state = sim_result.get_statevector(circuit)"
   ]
  },
  {
   "cell_type": "markdown",
   "metadata": {
    "slideshow": {
     "slide_type": "slide"
    }
   },
   "source": [
    "## Decode the state vector back into an image"
   ]
  },
  {
   "cell_type": "markdown",
   "metadata": {},
   "source": [
    "To turn the state vector back into an image, read off the $\\alpha$'s and reshape the column vector back into a matrix."
   ]
  },
  {
   "cell_type": "code",
   "execution_count": 21,
   "metadata": {},
   "outputs": [],
   "source": [
    "edge   = np.real(final_state)\n",
    "n_rows = int(np.sqrt(len(edge)))\n",
    "n_cols = n_rows\n",
    "edge   = edge.reshape(n_rows, n_cols)"
   ]
  },
  {
   "cell_type": "markdown",
   "metadata": {},
   "source": [
    "The edges are indicated by the basis states where the first qubit is $1$. After decoding the 1-D state vector back into a 2-D image, these basis states are the 2-D image's even columns. To retain only these columns, zero out the odd columns."
   ]
  },
  {
   "cell_type": "code",
   "execution_count": 11,
   "metadata": {},
   "outputs": [],
   "source": [
    "edge[:,::2] = 0"
   ]
  },
  {
   "cell_type": "markdown",
   "metadata": {
    "slideshow": {
     "slide_type": "slide"
    }
   },
   "source": [
    "Display the edges and the original image for comparison."
   ]
  },
  {
   "cell_type": "code",
   "execution_count": 22,
   "metadata": {},
   "outputs": [
    {
     "data": {
      "text/plain": [
       "<matplotlib.image.AxesImage at 0x1c25751ba8>"
      ]
     },
     "execution_count": 22,
     "metadata": {},
     "output_type": "execute_result"
    },
    {
     "data": {
      "image/png": "[encoded data removed]",
      "text/plain": [
       "<Figure size 432x288 with 2 Axes>"
      ]
     },
     "metadata": {
      "needs_background": "light"
     },
     "output_type": "display_data"
    }
   ],
   "source": [
    "fig, ax = plt.subplots(1,2)\n",
    "ax[0].imshow(edge)\n",
    "ax[1].imshow(im)"
   ]
  },
  {
   "cell_type": "markdown",
   "metadata": {
    "slideshow": {
     "slide_type": "-"
    }
   },
   "source": [
    "Notice we've only found the edges in every other column of the image. A modification of the QHED algorithm can find the edges in all columns with a single circuit, as described in [Yao, Xi-Wei et al., Quantum Image Processing and Its Application to Edge Detection: Theory and Experiment, Phys. Rev. X 7, 031041, (2017)](https://journals.aps.org/prx/abstract/10.1103/PhysRevX.7.031041)."
   ]
  }
 ],
 "metadata": {
  "celltoolbar": "Slideshow",
  "kernelspec": {
   "display_name": "Python 3",
   "language": "python",
   "name": "python3"
  },
  "language_info": {
   "codemirror_mode": {
    "name": "ipython",
    "version": 3
   },
   "file_extension": ".py",
   "mimetype": "text/x-python",
   "name": "python",
   "nbconvert_exporter": "python",
   "pygments_lexer": "ipython3",
   "version": "3.6.8"
  },
  "rise": {
   "scroll": true,
   "theme": "simple"
  }
 },
 "nbformat": 4,
 "nbformat_minor": 2
}
