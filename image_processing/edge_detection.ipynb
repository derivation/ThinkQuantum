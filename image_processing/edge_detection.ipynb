{
 "cells": [
  {
   "cell_type": "markdown",
   "metadata": {},
   "source": [
    "# Quantum Edge Detection\n",
    "\n",
    "This demonstration shows how to use Qiskit™ to perform edge detection in images with the quantum Hadamard edge detection algorithm, which completes the task with just one single-qubit operation, independent of the size of the image, illustrating the potential of quantum image processing for highly efficient image and video processing.\n",
    "\n",
    "Read the example image in and display it."
   ]
  },
  {
   "cell_type": "code",
   "execution_count": 1,
   "metadata": {},
   "outputs": [],
   "source": [
    "import numpy as np\n",
    "from numpy import pi\n",
    "import matplotlib.pyplot as plt\n",
    "import matplotlib.image  as mpimg"
   ]
  },
  {
   "cell_type": "code",
   "execution_count": 2,
   "metadata": {},
   "outputs": [
    {
     "data": {
      "text/plain": [
       "<matplotlib.image.AxesImage at 0x1154710b8>"
      ]
     },
     "execution_count": 2,
     "metadata": {},
     "output_type": "execute_result"
    },
    {
     "data": {
      "image/png": "[encoded data removed]",
      "text/plain": [
       "<Figure size 432x288 with 1 Axes>"
      ]
     },
     "metadata": {
      "needs_background": "light"
     },
     "output_type": "display_data"
    }
   ],
   "source": [
    "filename = './schrodin_yang.png'\n",
    "im = mpimg.imread(filename)\n",
    "\n",
    "fig, ax = plt.subplots()\n",
    "ax.imshow(im)"
   ]
  },
  {
   "cell_type": "markdown",
   "metadata": {},
   "source": [
    "If necessary, shrink the image to make the rest of the demonstration run faster."
   ]
  },
  {
   "cell_type": "code",
   "execution_count": 3,
   "metadata": {},
   "outputs": [],
   "source": [
    "from skimage.transform import resize"
   ]
  },
  {
   "cell_type": "code",
   "execution_count": 4,
   "metadata": {},
   "outputs": [
    {
     "name": "stderr",
     "output_type": "stream",
     "text": [
      "/miniconda3/envs/QiskitPublic/lib/python3.7/site-packages/skimage/transform/_warps.py:105: UserWarning: The default mode, 'constant', will be changed to 'reflect' in skimage 0.15.\n",
      "  warn(\"The default mode, 'constant', will be changed to 'reflect' in \"\n",
      "/miniconda3/envs/QiskitPublic/lib/python3.7/site-packages/skimage/transform/_warps.py:110: UserWarning: Anti-aliasing will be enabled by default in skimage 0.15 to avoid aliasing artifacts when down-sampling images.\n",
      "  warn(\"Anti-aliasing will be enabled by default in skimage 0.15 to \"\n"
     ]
    },
    {
     "data": {
      "text/plain": [
       "<matplotlib.image.AxesImage at 0x816a80080>"
      ]
     },
     "execution_count": 4,
     "metadata": {},
     "output_type": "execute_result"
    },
    {
     "data": {
      "image/png": "[encoded data removed]",
      "text/plain": [
       "<Figure size 432x288 with 1 Axes>"
      ]
     },
     "metadata": {
      "needs_background": "light"
     },
     "output_type": "display_data"
    }
   ],
   "source": [
    "n_pixels = 2**5\n",
    "im = resize(im, (n_pixels, n_pixels))\n",
    "\n",
    "fig, ax = plt.subplots()\n",
    "ax.imshow(im)"
   ]
  },
  {
   "cell_type": "markdown",
   "metadata": {},
   "source": [
    "Get the first color channel of the image and `ravel` it to form a 1-D vector."
   ]
  },
  {
   "cell_type": "code",
   "execution_count": 5,
   "metadata": {},
   "outputs": [],
   "source": [
    "data = im[:,:,0].ravel()"
   ]
  },
  {
   "cell_type": "markdown",
   "metadata": {},
   "source": [
    "Represent the image as a quantum state\n",
    "\n",
    "$$ |A\\rangle = \\sum_k \\alpha_k |k\\rangle $$\n",
    "\n",
    "where the computational basis $|k\\rangle$ encodes the position of each pixel and the amplitude $\\alpha_k$ encodes the pixel value."
   ]
  },
  {
   "cell_type": "code",
   "execution_count": 6,
   "metadata": {},
   "outputs": [
    {
     "name": "stderr",
     "output_type": "stream",
     "text": [
      "/miniconda3/envs/QiskitPublic/lib/python3.7/site-packages/marshmallow/schema.py:364: ChangedInMarshmallow3Warning: strict=False is not recommended. In marshmallow 3.0, schemas will always be strict. See https://marshmallow.readthedocs.io/en/latest/upgrading.html#schemas-are-always-strict\n",
      "  ChangedInMarshmallow3Warning\n"
     ]
    }
   ],
   "source": [
    "from qiskit_aqua.components.initial_states import Custom"
   ]
  },
  {
   "cell_type": "code",
   "execution_count": 7,
   "metadata": {},
   "outputs": [],
   "source": [
    "n_qubits   = np.int_(np.log2(len(data)))\n",
    "init_state = Custom(n_qubits, state_vector=data)"
   ]
  },
  {
   "cell_type": "markdown",
   "metadata": {},
   "source": [
    "Get the quantum circuit that creates the image representation and its registers. The circuit's registers begin in the zero state and end in the state that represents the image."
   ]
  },
  {
   "cell_type": "code",
   "execution_count": 8,
   "metadata": {},
   "outputs": [],
   "source": [
    "circ = init_state.construct_circuit('circuit')\n",
    "qr   = circ.qregs"
   ]
  },
  {
   "cell_type": "markdown",
   "metadata": {},
   "source": [
    "Create a copy of this circuit to try out different algorithms without having to regenerate it."
   ]
  },
  {
   "cell_type": "code",
   "execution_count": 9,
   "metadata": {},
   "outputs": [],
   "source": [
    "from copy import deepcopy"
   ]
  },
  {
   "cell_type": "code",
   "execution_count": 10,
   "metadata": {},
   "outputs": [],
   "source": [
    "circ_init = deepcopy(circ)"
   ]
  },
  {
   "cell_type": "markdown",
   "metadata": {},
   "source": [
    "The positions of any pair of neighboring pixels in `im` are the binary sequences $\\{b_{n-1},\\ldots, b_1, 0\\}$ and $\\{b_{n-1},\\ldots, b_1, 1\\}$, with $b_j = 0$ or $1$, their pixel values are stored as the amplitudes $\\alpha_{\\{b_{n-1},\\ldots, b_1, 0\\}}$ and $\\alpha_{\\{b_{n-1},\\ldots,b_1,1\\}}$ of the associated computational basis states. The Hadamard gate $H$ maps $|0\\rangle \\rightarrow (|0\\rangle + |1\\rangle)/\\sqrt{2}$ and $|1\\rangle \\rightarrow (|0\\rangle - |1\\rangle)/\\sqrt{2}$. Performing a Hadamard gate on the least significant qubit changes the amplitudes to $\\alpha_{\\{b_{n-1},\\ldots,b_1,0\\}} \\pm \\alpha_{\\{b_{n-1},\\ldots,b_1,1\\}}$. The even elements of the resulting state ($\\alpha_{\\{b_{n-1},\\ldots,b_1,0\\}} - \\alpha_{\\{b_{n-1},\\ldots,b_1,1\\}}$) form the nearest neighboring pixel value differences that indicate edges when its values are non-zero.\n",
    "\n",
    "The edge information in the even positions can be extracted by measuring the least significant qubit. If its value is $1$, then the state of the other $n-1$ quibits encodes the edges. The result is the horizontal boundaries between pixels at positions 0/1, 2/3, etc.\n",
    "\n",
    "Applying the Hadamard gate on the least significant qubit can be represented as the tensor matrix product\n",
    "\n",
    "$$ I_{2^{n-1}} \\otimes H : \n",
    "\\begin{pmatrix} \n",
    "\\alpha_0 \\\\ \\alpha_1 \\\\ \\alpha_2 \\\\ \\alpha_3 \\\\ \\vdots \\\\ \\alpha_{N-2} \\\\ \\alpha_{N-1} \n",
    "\\end{pmatrix} \n",
    "\\mapsto\n",
    "\\frac{1}{\\sqrt{2}}\n",
    "\\begin{pmatrix} \n",
    "\\alpha_0+\\alpha_1 \\\\ \\alpha_0-\\alpha_1 \\\\ \\alpha_2+\\alpha_3 \\\\ \\alpha_2-\\alpha_3 \\\\ \\vdots \\\\ \\alpha_{N-2}+\\alpha_{N-1} \\\\ \\alpha_{N-2}-\\alpha_{N-1} \n",
    "\\end{pmatrix} \n",
    "$$\n",
    "\n",
    "Beginning with the circuit `circ`, which initialized the state in the image representation, apply the Hadamard gate to the least significant qubit and measure it."
   ]
  },
  {
   "cell_type": "code",
   "execution_count": 11,
   "metadata": {},
   "outputs": [
    {
     "data": {
      "text/plain": [
       "<qiskit.extensions.standard.h.HGate at 0x1c1c6c0fd0>"
      ]
     },
     "execution_count": 11,
     "metadata": {},
     "output_type": "execute_result"
    }
   ],
   "source": [
    "circ.h(qr[0][0])"
   ]
  },
  {
   "cell_type": "markdown",
   "metadata": {},
   "source": [
    "Simulate the circuit using the `StatevectorSimulator` and read the resulting state vector."
   ]
  },
  {
   "cell_type": "code",
   "execution_count": 12,
   "metadata": {},
   "outputs": [],
   "source": [
    "from qiskit import BasicAer, execute"
   ]
  },
  {
   "cell_type": "code",
   "execution_count": 13,
   "metadata": {},
   "outputs": [],
   "source": [
    "simulator = BasicAer.get_backend('statevector_simulator')\n",
    "\n",
    "#from qiskit import Aer, execute\n",
    "#from qiskit.providers.Aer import StatevectorSimulator\n",
    "#simulator = Aer.get_backend('statevector_simulator')"
   ]
  },
  {
   "cell_type": "code",
   "execution_count": 14,
   "metadata": {},
   "outputs": [
    {
     "name": "stderr",
     "output_type": "stream",
     "text": [
      "/miniconda3/envs/QiskitPublic/lib/python3.7/site-packages/marshmallow/schema.py:364: ChangedInMarshmallow3Warning: strict=False is not recommended. In marshmallow 3.0, schemas will always be strict. See https://marshmallow.readthedocs.io/en/latest/upgrading.html#schemas-are-always-strict\n",
      "  ChangedInMarshmallow3Warning\n"
     ]
    }
   ],
   "source": [
    "result = execute(circ, simulator).result()\n",
    "\n",
    "final_state_vector = result.get_statevector(circ)"
   ]
  },
  {
   "cell_type": "markdown",
   "metadata": {},
   "source": [
    "Decode the state vector back into an image."
   ]
  },
  {
   "cell_type": "code",
   "execution_count": 15,
   "metadata": {},
   "outputs": [],
   "source": [
    "edge_even = np.real(final_state_vector)\n",
    "n_rows    = np.int_(np.sqrt(len(edge_even)))\n",
    "edge_even = edge_even.reshape(n_rows, -1)"
   ]
  },
  {
   "cell_type": "markdown",
   "metadata": {},
   "source": [
    "Conditioned on the measurement result of the least significant qubit being $1$, the state of the other $n − 1$ qubits encodes the domain boundaries. After decoding the 1-D state vector back into a 2-D image, the even column indices correspond to the least significant qubit being $1$, so to retain only these columns, zero out the odd columns."
   ]
  },
  {
   "cell_type": "code",
   "execution_count": 16,
   "metadata": {},
   "outputs": [],
   "source": [
    "edge_even[:,::2] = 0"
   ]
  },
  {
   "cell_type": "markdown",
   "metadata": {},
   "source": [
    "Display the edges and the original image for comparison."
   ]
  },
  {
   "cell_type": "code",
   "execution_count": 17,
   "metadata": {},
   "outputs": [
    {
     "data": {
      "text/plain": [
       "<matplotlib.image.AxesImage at 0x1c1ca2ba90>"
      ]
     },
     "execution_count": 17,
     "metadata": {},
     "output_type": "execute_result"
    },
    {
     "data": {
      "image/png": "[encoded data removed]",
      "text/plain": [
       "<Figure size 432x288 with 2 Axes>"
      ]
     },
     "metadata": {
      "needs_background": "light"
     },
     "output_type": "display_data"
    }
   ],
   "source": [
    "fig, ax = plt.subplots(1,2)\n",
    "ax[0].imshow(edge_even)\n",
    "ax[1].imshow(im)"
   ]
  },
  {
   "cell_type": "markdown",
   "metadata": {},
   "source": [
    "So far, the boundaries have been found between the pixels at position 0/1, 2/3, etc. To get the boundaries between the remaining pairs 1/2, 3/4, etc., apply the $n$-qubit amplitude permutation that swaps the even and odd amplitudes.\n",
    "\n",
    "$$ D_{2^{n}} : \n",
    "\\begin{pmatrix} \n",
    "\\alpha_0 \\\\ \\alpha_1 \\\\ \\alpha_2 \\\\ \\alpha_3 \\\\ \\vdots \\\\ \\alpha_{N-2} \\\\ \\alpha_{N-1} \n",
    "\\end{pmatrix} \n",
    "\\mapsto\n",
    "\\begin{pmatrix} \n",
    "\\alpha_1 \\\\ \\alpha_2 \\\\ \\alpha_3 \\\\ \\alpha_4 \\\\ \\vdots \\\\ \\alpha_{N-1} \\\\ \\alpha_{0} \n",
    "\\end{pmatrix} \n",
    "$$\n",
    "\n",
    "$$ (I_{2^{n-1}} \\otimes H) D_{2^{n}} : \n",
    "\\begin{pmatrix} \n",
    "\\alpha_0 \\\\ \\alpha_1 \\\\ \\alpha_2 \\\\ \\alpha_3 \\\\ \\vdots \\\\ \\alpha_{N-2} \\\\ \\alpha_{N-1} \n",
    "\\end{pmatrix} \n",
    "\\mapsto\n",
    "\\frac{1}{\\sqrt{2}}\n",
    "\\begin{pmatrix} \n",
    "\\alpha_1+\\alpha_2 \\\\ \\alpha_1-\\alpha_2 \\\\ \\alpha_3+\\alpha_4 \\\\ \\alpha_3-\\alpha_4 \\\\ \\vdots \\\\ \\alpha_{N-1}+\\alpha_{0} \\\\ \\alpha_{N-1}-\\alpha_{0} \n",
    "\\end{pmatrix} \n",
    "$$\n",
    "\n",
    "Build the permutation operation."
   ]
  },
  {
   "cell_type": "code",
   "execution_count": 18,
   "metadata": {},
   "outputs": [],
   "source": [
    "def qft(circ, q, n):\n",
    "    \"\"\"n-qubit QFT on q in circ.\"\"\"\n",
    "    for j in range(n):\n",
    "        for k in range(j):\n",
    "            circ.cu1(pi/float(2**(j-k)), q[j], q[k])\n",
    "        circ.h(q[j])\n",
    "        \n",
    "def iqft(circ, q, n):\n",
    "    \"\"\"n-qubit IQFT on q in circ.\"\"\"\n",
    "    for j in range(n):\n",
    "        for k in range(j):\n",
    "            circ.cu1(-pi/float(2**(j-k)), q[int(n-j-1)], q[int(n-k-1)])\n",
    "        circ.h(q[int(n-j-1)])\n",
    "        \n",
    "def shiftBases(circ, q, n, p):\n",
    "    \"\"\"Shift the register q by p positions\"\"\"\n",
    "    iqft(circ,q,n)\n",
    "    for k in range(n):\n",
    "        circ.u1(-p*2*pi/float(2**(n-k)), q[int(n-k-1)])\n",
    "    qft(circ,q,n)"
   ]
  },
  {
   "cell_type": "code",
   "execution_count": 19,
   "metadata": {},
   "outputs": [],
   "source": [
    "from qiskit import QuantumRegister, QuantumCircuit"
   ]
  },
  {
   "cell_type": "code",
   "execution_count": 20,
   "metadata": {},
   "outputs": [
    {
     "data": {
      "image/png": "[encoded data removed]",
      "text/plain": [
       "<Figure size 963.2x198.66 with 1 Axes>"
      ]
     },
     "execution_count": 20,
     "metadata": {},
     "output_type": "execute_result"
    }
   ],
   "source": [
    "n = 3\n",
    "q = QuantumRegister(n,'q')\n",
    "c = QuantumCircuit(q)\n",
    "\n",
    "shiftBases(c,q,n,1)\n",
    "\n",
    "c.draw(output='mpl')"
   ]
  },
  {
   "cell_type": "markdown",
   "metadata": {},
   "source": [
    "Verify the circuit performs a permutation by looking at the matrix form of the circuit."
   ]
  },
  {
   "cell_type": "code",
   "execution_count": 21,
   "metadata": {},
   "outputs": [
    {
     "name": "stdout",
     "output_type": "stream",
     "text": [
      "[[0.+0.j 0.+0.j 0.+0.j 0.+0.j 0.+0.j 0.+0.j 0.+0.j 1.+0.j]\n",
      " [1.+0.j 0.+0.j 0.+0.j 0.+0.j 0.+0.j 0.+0.j 0.+0.j 0.+0.j]\n",
      " [0.+0.j 1.+0.j 0.+0.j 0.+0.j 0.+0.j 0.+0.j 0.+0.j 0.+0.j]\n",
      " [0.+0.j 0.+0.j 1.+0.j 0.+0.j 0.+0.j 0.+0.j 0.+0.j 0.+0.j]\n",
      " [0.+0.j 0.+0.j 0.+0.j 1.+0.j 0.+0.j 0.+0.j 0.+0.j 0.+0.j]\n",
      " [0.+0.j 0.+0.j 0.+0.j 0.+0.j 1.+0.j 0.+0.j 0.+0.j 0.+0.j]\n",
      " [0.+0.j 0.+0.j 0.+0.j 0.+0.j 0.+0.j 1.+0.j 0.+0.j 0.+0.j]\n",
      " [0.+0.j 0.+0.j 0.+0.j 0.+0.j 0.+0.j 0.+0.j 1.+0.j 0.+0.j]]\n"
     ]
    }
   ],
   "source": [
    "simulator = BasicAer.get_backend('unitary_simulator')\n",
    "result = execute(c, simulator).result()\n",
    "unitary = result.get_unitary(c)\n",
    "print(unitary)"
   ]
  },
  {
   "cell_type": "markdown",
   "metadata": {},
   "source": [
    "Apply the permutation to the copy of image initialization circuit to avoid recalculating the image to state vector encoding."
   ]
  },
  {
   "cell_type": "code",
   "execution_count": 22,
   "metadata": {},
   "outputs": [],
   "source": [
    "circ = deepcopy(circ_init)\n",
    "qr   = circ.qregs"
   ]
  },
  {
   "cell_type": "code",
   "execution_count": 23,
   "metadata": {},
   "outputs": [],
   "source": [
    "shiftBases(circ,qr[0],n_qubits,1)\n",
    "circ.h(qr[0][0])\n",
    "shiftBases(circ,qr[0],n_qubits,-1)"
   ]
  },
  {
   "cell_type": "code",
   "execution_count": 24,
   "metadata": {},
   "outputs": [],
   "source": [
    "simulator = BasicAer.get_backend('statevector_simulator')\n",
    "result = execute(circ, simulator).result()\n",
    "final_state_vector = result.get_statevector(circ)"
   ]
  },
  {
   "cell_type": "code",
   "execution_count": 25,
   "metadata": {},
   "outputs": [],
   "source": [
    "edge_odd = np.real(final_state_vector)\n",
    "n_rows = np.int_(np.sqrt(len(edge_odd)))\n",
    "edge_odd = edge_odd.reshape(n_rows, -1)"
   ]
  },
  {
   "cell_type": "code",
   "execution_count": 26,
   "metadata": {},
   "outputs": [],
   "source": [
    "edge_odd[:,1::2] = 0"
   ]
  },
  {
   "cell_type": "code",
   "execution_count": 27,
   "metadata": {},
   "outputs": [
    {
     "data": {
      "text/plain": [
       "<matplotlib.image.AxesImage at 0x1c1c359400>"
      ]
     },
     "execution_count": 27,
     "metadata": {},
     "output_type": "execute_result"
    },
    {
     "data": {
      "image/png": "[encoded data removed]",
      "text/plain": [
       "<Figure size 432x288 with 2 Axes>"
      ]
     },
     "metadata": {
      "needs_background": "light"
     },
     "output_type": "display_data"
    }
   ],
   "source": [
    "fig, ax = plt.subplots(1,2)\n",
    "ax[0].imshow(edge_odd)\n",
    "ax[1].imshow(im)"
   ]
  },
  {
   "cell_type": "code",
   "execution_count": 28,
   "metadata": {},
   "outputs": [
    {
     "data": {
      "text/plain": [
       "<matplotlib.image.AxesImage at 0x1c1d29f8d0>"
      ]
     },
     "execution_count": 28,
     "metadata": {},
     "output_type": "execute_result"
    },
    {
     "data": {
      "image/png": "[encoded data removed]",
      "text/plain": [
       "<Figure size 432x288 with 2 Axes>"
      ]
     },
     "metadata": {
      "needs_background": "light"
     },
     "output_type": "display_data"
    }
   ],
   "source": [
    "fig, ax = plt.subplots(1,2)\n",
    "ax[0].imshow(edge_odd)\n",
    "ax[1].imshow(edge_even)"
   ]
  },
  {
   "cell_type": "code",
   "execution_count": 29,
   "metadata": {},
   "outputs": [
    {
     "data": {
      "text/plain": [
       "<matplotlib.image.AxesImage at 0x1c1d443438>"
      ]
     },
     "execution_count": 29,
     "metadata": {},
     "output_type": "execute_result"
    },
    {
     "data": {
      "image/png": "[encoded data removed]",
      "text/plain": [
       "<Figure size 432x288 with 2 Axes>"
      ]
     },
     "metadata": {
      "needs_background": "light"
     },
     "output_type": "display_data"
    }
   ],
   "source": [
    "edge = edge_even + edge_odd\n",
    "fig, ax = plt.subplots(1,2)\n",
    "ax[0].imshow(edge)\n",
    "ax[1].imshow(im)"
   ]
  },
  {
   "cell_type": "code",
   "execution_count": null,
   "metadata": {},
   "outputs": [],
   "source": []
  }
 ],
 "metadata": {
  "kernelspec": {
   "display_name": "Python 3",
   "language": "python",
   "name": "python3"
  },
  "language_info": {
   "codemirror_mode": {
    "name": "ipython",
    "version": 3
   },
   "file_extension": ".py",
   "mimetype": "text/x-python",
   "name": "python",
   "nbconvert_exporter": "python",
   "pygments_lexer": "ipython3",
   "version": "3.7.1"
  }
 },
 "nbformat": 4,
 "nbformat_minor": 2
}
